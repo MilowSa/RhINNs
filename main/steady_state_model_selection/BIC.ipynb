{
 "cells": [
  {
   "cell_type": "code",
   "execution_count": 1,
   "id": "1e44adf3",
   "metadata": {},
   "outputs": [
    {
     "name": "stderr",
     "output_type": "stream",
     "text": [
      "WARNING (theano.link.c.cmodule): install mkl with `conda install mkl-service`: No module named 'mkl'\n"
     ]
    }
   ],
   "source": [
    "import pymc3 as pm\n",
    "import arviz as az\n",
    "import autograd.numpy as np\n",
    "import pandas as pd\n",
    "import matplotlib.pyplot as plt\n",
    "import matplotlib\n",
    "import os\n",
    "import sys\n",
    "from time import time\n",
    "np.random.seed(42) \n",
    "#You will get a warning for the mkl package if you are running on M1-based machines"
   ]
  },
  {
   "cell_type": "code",
   "execution_count": 2,
   "id": "09e84172",
   "metadata": {},
   "outputs": [],
   "source": [
    "path = os.getcwd()\n",
    "files = os.listdir(path)\n",
    "df = {}\n",
    "xlsx = pd.ExcelFile('ExpData.xlsx')\n",
    "df = pd.read_excel(xlsx, sheet_name=None)\n",
    "data = [[k,v] for k,v in df.items()] #k is the sheet name, v is the pandas df\n",
    "\n",
    "i = 7\n",
    "X, y = data[i][1]['ShearRate'], data[i][1]['ShearStress']\n",
    "y = np.log10(y)\n",
    "\n",
    "kk = float((np.log10(np.max(10**y))+np.log10(np.min(10**y)))/2)\n",
    "# kk = 0.\n",
    "y = y - kk\n",
    "X, y = np.array(X), np.array(y)"
   ]
  },
  {
   "cell_type": "code",
   "execution_count": 3,
   "id": "27701281",
   "metadata": {},
   "outputs": [],
   "source": [
    "def TCC(sigma_y, g_ct, k, g_c, X):\n",
    "    Sigma = np.log10(sigma_y*(1+(X/g_ct)**0.5) + X*k*(1+(X/g_c)**2)**-0.5)\n",
    "    return Sigma\n",
    "\n",
    "\n",
    "# Intial Conditions and Parameters\n",
    "sigma_y = 1.\n",
    "g_ct = 1.\n",
    "k = 1.\n",
    "g_c = 1."
   ]
  },
  {
   "cell_type": "code",
   "execution_count": 4,
   "id": "939439b5",
   "metadata": {},
   "outputs": [
    {
     "name": "stderr",
     "output_type": "stream",
     "text": [
      "/Users/miladsa/tf/envs/pymc-dev-py39/lib/python3.9/site-packages/deprecat/classic.py:215: FutureWarning: In v4.0, pm.sample will return an `arviz.InferenceData` object instead of a `MultiTrace` by default. You can pass return_inferencedata=True or return_inferencedata=False to be safe and silence this warning.\n",
      "  return wrapped_(*args_, **kwargs_)\n",
      "Auto-assigning NUTS sampler...\n",
      "Initializing NUTS using jitter+adapt_diag...\n",
      "Multiprocess sampling (2 chains in 2 jobs)\n",
      "NUTS: [ϵ, d, c, b, a]\n",
      "WARNING (theano.link.c.cmodule): install mkl with `conda install mkl-service`: No module named 'mkl'\n",
      "WARNING (theano.link.c.cmodule): install mkl with `conda install mkl-service`: No module named 'mkl'\n"
     ]
    },
    {
     "data": {
      "text/html": [
       "\n",
       "<style>\n",
       "    /* Turns off some styling */\n",
       "    progress {\n",
       "        /* gets rid of default border in Firefox and Opera. */\n",
       "        border: none;\n",
       "        /* Needs to be in here for Safari polyfill so background images work as expected. */\n",
       "        background-size: auto;\n",
       "    }\n",
       "    .progress-bar-interrupted, .progress-bar-interrupted::-webkit-progress-bar {\n",
       "        background: #F44336;\n",
       "    }\n",
       "</style>\n"
      ],
      "text/plain": [
       "<IPython.core.display.HTML object>"
      ]
     },
     "metadata": {},
     "output_type": "display_data"
    },
    {
     "data": {
      "text/html": [
       "\n",
       "    <div>\n",
       "      <progress value='6000' class='' max='6000' style='width:300px; height:20px; vertical-align: middle;'></progress>\n",
       "      100.00% [6000/6000 00:12<00:00 Sampling 2 chains, 200 divergences]\n",
       "    </div>\n",
       "    "
      ],
      "text/plain": [
       "<IPython.core.display.HTML object>"
      ]
     },
     "metadata": {},
     "output_type": "display_data"
    },
    {
     "name": "stderr",
     "output_type": "stream",
     "text": [
      "/Users/miladsa/tf/envs/pymc-dev-py39/lib/python3.9/site-packages/scipy/stats/_continuous_distns.py:624: RuntimeWarning: overflow encountered in _beta_ppf\n",
      "  return _boost._beta_ppf(q, a, b)\n",
      "/Users/miladsa/tf/envs/pymc-dev-py39/lib/python3.9/site-packages/scipy/stats/_continuous_distns.py:624: RuntimeWarning: overflow encountered in _beta_ppf\n",
      "  return _boost._beta_ppf(q, a, b)\n",
      "Sampling 2 chains for 1_000 tune and 2_000 draw iterations (2_000 + 4_000 draws total) took 16 seconds.\n",
      "There were 28 divergences after tuning. Increase `target_accept` or reparameterize.\n",
      "There were 172 divergences after tuning. Increase `target_accept` or reparameterize.\n",
      "The estimated number of effective samples is smaller than 200 for some parameters.\n"
     ]
    },
    {
     "name": "stdout",
     "output_type": "stream",
     "text": [
      "\n",
      "BIC computation time: 21.58 seconds\n"
     ]
    }
   ],
   "source": [
    "t0 = time()\n",
    "with pm.Model() as model_g:\n",
    "    a = pm.Uniform('a', 0., 20.)\n",
    "    b = pm.Uniform('b', 0., 20.)\n",
    "    c = pm.Uniform('c', -10., 10.)\n",
    "    d = pm.Uniform('d', 0., 20.)\n",
    "    ϵ = pm.HalfNormal('ϵ', sigma=5)    # prior for our estimated standard deviation of the error\n",
    "\n",
    "    T_pred = pm.Normal('T_pred', mu=TCC(a, b, c, d, X), sd=ϵ, observed=y)  # bringing it all together\n",
    "\n",
    "\n",
    "    trace_g = pm.sample(2000, tune=1000,cores=2)  # Explore and Sample the Parameter Space!\n",
    "\n",
    "runtime = np.round(time()-t0,2)\n",
    "print('\\nBIC computation time: {} seconds'.format(runtime))"
   ]
  },
  {
   "cell_type": "code",
   "execution_count": 6,
   "id": "a8540c8e",
   "metadata": {},
   "outputs": [
    {
     "ename": "NameError",
     "evalue": "name 'az' is not defined",
     "output_type": "error",
     "traceback": [
      "\u001b[0;31m---------------------------------------------------------------------------\u001b[0m",
      "\u001b[0;31mNameError\u001b[0m                                 Traceback (most recent call last)",
      "Input \u001b[0;32mIn [6]\u001b[0m, in \u001b[0;36m<cell line: 1>\u001b[0;34m()\u001b[0m\n\u001b[0;32m----> 1\u001b[0m \u001b[43maz\u001b[49m\u001b[38;5;241m.\u001b[39msummary(trace_g)\n",
      "\u001b[0;31mNameError\u001b[0m: name 'az' is not defined"
     ]
    }
   ],
   "source": [
    "az.summary(trace_g)"
   ]
  },
  {
   "cell_type": "code",
   "execution_count": null,
   "id": "a6bdbaba",
   "metadata": {},
   "outputs": [],
   "source": []
  }
 ],
 "metadata": {
  "kernelspec": {
   "display_name": "Python 3 (ipykernel)",
   "language": "python",
   "name": "python3"
  },
  "language_info": {
   "codemirror_mode": {
    "name": "ipython",
    "version": 3
   },
   "file_extension": ".py",
   "mimetype": "text/x-python",
   "name": "python",
   "nbconvert_exporter": "python",
   "pygments_lexer": "ipython3",
   "version": "3.9.12"
  }
 },
 "nbformat": 4,
 "nbformat_minor": 5
}
